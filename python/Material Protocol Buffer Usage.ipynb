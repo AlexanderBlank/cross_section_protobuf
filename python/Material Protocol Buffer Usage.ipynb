{
 "cells": [
  {
   "cell_type": "markdown",
   "metadata": {},
   "source": [
    "# Material Protocol Buffer Usage"
   ]
  },
  {
   "cell_type": "markdown",
   "metadata": {},
   "source": [
    "This notebook will show you how to use the protocol buffer for materials for BART using the python interface. \n",
    "\n",
    "Dependencies:\n",
    "- python3"
   ]
  },
  {
   "cell_type": "markdown",
   "metadata": {},
   "source": [
    "_Optional:_ recompile the protocol buffer."
   ]
  },
  {
   "cell_type": "code",
   "execution_count": 2,
   "metadata": {},
   "outputs": [],
   "source": [
    "!protoc --python_out=./proto -I=../proto ../proto/material_protobuf.proto "
   ]
  },
  {
   "cell_type": "markdown",
   "metadata": {},
   "source": [
    "Import the generated protocol buffer package."
   ]
  },
  {
   "cell_type": "code",
   "execution_count": 1,
   "metadata": {
    "collapsed": true
   },
   "outputs": [],
   "source": [
    "import proto.material_protobuf_pb2 as mat_pb"
   ]
  },
  {
   "cell_type": "markdown",
   "metadata": {},
   "source": [
    "We will be making a new material library, each `message` in the `.proto` file is an object, so we will instantiate a new one. `Library()` is in the top level of the package.\n",
    "```\n",
    "message Library {\n",
    "```"
   ]
  },
  {
   "cell_type": "code",
   "execution_count": 2,
   "metadata": {
    "collapsed": true
   },
   "outputs": [],
   "source": [
    "library = mat_pb.Library()"
   ]
  },
  {
   "cell_type": "markdown",
   "metadata": {},
   "source": [
    "## Top level fields"
   ]
  },
  {
   "cell_type": "markdown",
   "metadata": {},
   "source": [
    "We can now set the single fields in our `Library()`:\n",
    "```\n",
    "string library_name = 1;\n",
    "uint32 number_of_groups = 2;\n",
    "  ```"
   ]
  },
  {
   "cell_type": "code",
   "execution_count": 3,
   "metadata": {
    "collapsed": true
   },
   "outputs": [],
   "source": [
    "library.library_name = \"Two-group test library\"\n",
    "library.number_of_groups = 2"
   ]
  },
  {
   "cell_type": "markdown",
   "metadata": {},
   "source": [
    "The energy_groups field has the `repeated` codeword, so it requires a list. It starts as an empty list.\n",
    "```\n",
    "repeated float energy_groups = 3 [packed = true];\n",
    "  ```"
   ]
  },
  {
   "cell_type": "code",
   "execution_count": 4,
   "metadata": {},
   "outputs": [
    {
     "data": {
      "text/plain": [
       "[]"
      ]
     },
     "execution_count": 4,
     "metadata": {},
     "output_type": "execute_result"
    }
   ],
   "source": [
    "library.energy_groups"
   ]
  },
  {
   "cell_type": "markdown",
   "metadata": {},
   "source": [
    "There are various ways to set it. You can use `.append()` to add one value, or `.extend()` to add a list, or other accessors, the `[:]` accessor allows you to set the whole list:"
   ]
  },
  {
   "cell_type": "code",
   "execution_count": 5,
   "metadata": {},
   "outputs": [
    {
     "data": {
      "text/plain": [
       "[0.02500000037252903, 1000000.0]"
      ]
     },
     "execution_count": 5,
     "metadata": {},
     "output_type": "execute_result"
    }
   ],
   "source": [
    "library.energy_groups[:] = ([0.025, 1e6])\n",
    "library.energy_groups"
   ]
  },
  {
   "cell_type": "markdown",
   "metadata": {},
   "source": [
    "We can review the library object:"
   ]
  },
  {
   "cell_type": "code",
   "execution_count": 6,
   "metadata": {},
   "outputs": [
    {
     "data": {
      "text/plain": [
       "library_name: \"Two-group test library\"\n",
       "number_of_groups: 2\n",
       "energy_groups: 0.02500000037252903\n",
       "energy_groups: 1000000.0"
      ]
     },
     "execution_count": 6,
     "metadata": {},
     "output_type": "execute_result"
    }
   ],
   "source": [
    "library"
   ]
  },
  {
   "cell_type": "markdown",
   "metadata": {},
   "source": [
    "## Making a new material"
   ]
  },
  {
   "cell_type": "markdown",
   "metadata": {},
   "source": [
    "The `repeated` field for materials holds Material objects, so we need to instantiate them using the `.add()` command:\n",
    "```\n",
    "repeated Material materials = 4;\n",
    "```"
   ]
  },
  {
   "cell_type": "code",
   "execution_count": 7,
   "metadata": {
    "collapsed": true
   },
   "outputs": [],
   "source": [
    "u235 = library.materials.add()"
   ]
  },
  {
   "cell_type": "markdown",
   "metadata": {},
   "source": [
    "This `u233` is now an instantiation of the Material object (it's a `message` so it's an object)\n",
    "```\n",
    "message Material {\n",
    "```"
   ]
  },
  {
   "cell_type": "markdown",
   "metadata": {},
   "source": [
    "We can set the first four fields easily:\n",
    "```\n",
    "string full_name = 1;\n",
    "string abbreviation = 2;\n",
    "uint32 A = 3;\n",
    "uint32 Z = 4;\n",
    "    ```"
   ]
  },
  {
   "cell_type": "code",
   "execution_count": 8,
   "metadata": {
    "collapsed": true
   },
   "outputs": [],
   "source": [
    "u235.full_name = \"Uranium 235\"\n",
    "u235.abbreviation = \"U235\"\n",
    "u235.A = 235\n",
    "u235.Z = 91"
   ]
  },
  {
   "cell_type": "markdown",
   "metadata": {},
   "source": [
    "We can check that we've set the right values and always change them if need be."
   ]
  },
  {
   "cell_type": "code",
   "execution_count": 9,
   "metadata": {},
   "outputs": [
    {
     "data": {
      "text/plain": [
       "full_name: \"Uranium 235\"\n",
       "abbreviation: \"U235\"\n",
       "A: 235\n",
       "Z: 91"
      ]
     },
     "execution_count": 9,
     "metadata": {},
     "output_type": "execute_result"
    }
   ],
   "source": [
    "u235"
   ]
  },
  {
   "cell_type": "code",
   "execution_count": 10,
   "metadata": {},
   "outputs": [
    {
     "data": {
      "text/plain": [
       "full_name: \"Uranium 235\"\n",
       "abbreviation: \"U235\"\n",
       "A: 235\n",
       "Z: 92"
      ]
     },
     "execution_count": 10,
     "metadata": {},
     "output_type": "execute_result"
    }
   ],
   "source": [
    "u235.Z =92\n",
    "u235"
   ]
  },
  {
   "cell_type": "markdown",
   "metadata": {},
   "source": [
    "## Adding Properties"
   ]
  },
  {
   "cell_type": "markdown",
   "metadata": {},
   "source": [
    "There are three types of properties that can be added.\n",
    "\n",
    "- Scalar quantities, such as density or other material properties.\n",
    "- Vector quantities, such as $\\chi$ or $\\Sigma_t$ that have different values for each energy group.\n",
    "- Matrix quantities, such as $\\Sigma_s$ that are usually $G \\times G$ where $G$ is the number of energy groups.\n",
    "\n",
    "Each property is a `message` in one of three repeated fields:\n",
    "```\n",
    "repeated Scalar_Property scalar_properties = 5;\n",
    "repeated Vector_Property vector_properties = 6;\n",
    "repeated Matrix_Property matrix_properties = 7;\n",
    "    ```\n",
    "So they need to be added using `.add()` and then their properties added. There are `enum`s that hold IDs to identify possible properties."
   ]
  },
  {
   "cell_type": "markdown",
   "metadata": {},
   "source": [
    "For example, to add a density scalar quantity:\n",
    "```\n",
    "message Scalar_Property {\n",
    "  Scalar_ID id = 1;\n",
    "  float value = 2;\n",
    "}\n",
    "```\n",
    "We need to look up the density id:\n",
    "```\n",
    "  enum Scalar_ID {\n",
    "    UNKNOWN_SCALAR = 0;\n",
    "    DENSITY = 1;\n",
    "    ...\n",
    "```"
   ]
  },
  {
   "cell_type": "code",
   "execution_count": 11,
   "metadata": {
    "collapsed": true
   },
   "outputs": [],
   "source": [
    "density = u235.scalar_property.add()"
   ]
  },
  {
   "cell_type": "code",
   "execution_count": 12,
   "metadata": {
    "collapsed": true
   },
   "outputs": [],
   "source": [
    "density.id = library.DENSITY\n",
    "density.value = 9.8"
   ]
  },
  {
   "cell_type": "code",
   "execution_count": 13,
   "metadata": {},
   "outputs": [
    {
     "data": {
      "text/plain": [
       "full_name: \"Uranium 235\"\n",
       "abbreviation: \"U235\"\n",
       "A: 235\n",
       "Z: 92\n",
       "scalar_property {\n",
       "  id: DENSITY\n",
       "  value: 9.800000190734863\n",
       "}"
      ]
     },
     "execution_count": 13,
     "metadata": {},
     "output_type": "execute_result"
    }
   ],
   "source": [
    "u235"
   ]
  },
  {
   "cell_type": "markdown",
   "metadata": {},
   "source": [
    "The process is similar for vectors:\n",
    "```\n",
    "enum Vector_ID {\n",
    "  UNKNOWN_VECTOR = 0;\n",
    "  SIGMA_T = 1;\n",
    "  CHI = 2;\n",
    "  ...\n",
    "}\n",
    "...\n",
    "\n",
    "message Vector_Property {\n",
    "  Vector_ID id = 1;\n",
    "  repeated double values = 2 [packed=true];\n",
    "}\n",
    "```\n"
   ]
  },
  {
   "cell_type": "code",
   "execution_count": 14,
   "metadata": {
    "collapsed": true
   },
   "outputs": [],
   "source": [
    "sigma_t = u235.vector_property.add()"
   ]
  },
  {
   "cell_type": "code",
   "execution_count": 16,
   "metadata": {
    "collapsed": true
   },
   "outputs": [],
   "source": [
    "sigma_t.id = library.SIGMA_T\n",
    "sigma_t.value[:] = [1.0, 2.0]"
   ]
  },
  {
   "cell_type": "code",
   "execution_count": 17,
   "metadata": {},
   "outputs": [
    {
     "data": {
      "text/plain": [
       "full_name: \"Uranium 235\"\n",
       "abbreviation: \"U235\"\n",
       "A: 235\n",
       "Z: 92\n",
       "scalar_property {\n",
       "  id: DENSITY\n",
       "  value: 9.800000190734863\n",
       "}\n",
       "vector_property {\n",
       "  id: SIGMA_T\n",
       "  value: 1.0\n",
       "  value: 2.0\n",
       "}"
      ]
     },
     "execution_count": 17,
     "metadata": {},
     "output_type": "execute_result"
    }
   ],
   "source": [
    "u235"
   ]
  },
  {
   "cell_type": "code",
   "execution_count": 18,
   "metadata": {
    "collapsed": true
   },
   "outputs": [],
   "source": [
    "sigma_s = u235.matrix_property.add()"
   ]
  },
  {
   "cell_type": "code",
   "execution_count": 23,
   "metadata": {
    "collapsed": true
   },
   "outputs": [],
   "source": [
    "sigma_s.id = library.SIGMA_S\n",
    "sigma_s.rows = 2\n",
    "sigma_s.cols = 2\n",
    "sigma_s.value[:] = [1.0, 0.0, 0.0, 1.0]"
   ]
  },
  {
   "cell_type": "code",
   "execution_count": 24,
   "metadata": {},
   "outputs": [
    {
     "data": {
      "text/plain": [
       "full_name: \"Uranium 235\"\n",
       "abbreviation: \"U235\"\n",
       "A: 235\n",
       "Z: 92\n",
       "scalar_property {\n",
       "  id: DENSITY\n",
       "  value: 9.800000190734863\n",
       "}\n",
       "vector_property {\n",
       "  id: SIGMA_T\n",
       "  value: 1.0\n",
       "  value: 2.0\n",
       "}\n",
       "matrix_property {\n",
       "  id: SIGMA_S\n",
       "  rows: 2\n",
       "  cols: 2\n",
       "  value: 1.0\n",
       "  value: 0.0\n",
       "  value: 0.0\n",
       "  value: 1.0\n",
       "}"
      ]
     },
     "execution_count": 24,
     "metadata": {},
     "output_type": "execute_result"
    }
   ],
   "source": [
    "u235"
   ]
  },
  {
   "cell_type": "code",
   "execution_count": 26,
   "metadata": {
    "collapsed": true
   },
   "outputs": [],
   "source": [
    "chi = u235.vector_property.add()"
   ]
  },
  {
   "cell_type": "code",
   "execution_count": 29,
   "metadata": {
    "collapsed": true
   },
   "outputs": [],
   "source": [
    "chi.id = library.CHI\n",
    "chi.value[:] =  [0.0, 0.5]"
   ]
  },
  {
   "cell_type": "code",
   "execution_count": 33,
   "metadata": {
    "collapsed": true
   },
   "outputs": [],
   "source": [
    "del u235.vector_property[1]"
   ]
  },
  {
   "cell_type": "code",
   "execution_count": 34,
   "metadata": {},
   "outputs": [
    {
     "data": {
      "text/plain": [
       "full_name: \"Uranium 235\"\n",
       "abbreviation: \"U235\"\n",
       "A: 235\n",
       "Z: 92\n",
       "scalar_property {\n",
       "  id: DENSITY\n",
       "  value: 9.800000190734863\n",
       "}\n",
       "vector_property {\n",
       "  id: SIGMA_T\n",
       "  value: 1.0\n",
       "  value: 2.0\n",
       "}\n",
       "vector_property {\n",
       "  id: CHI\n",
       "  value: 0.0\n",
       "  value: 0.5\n",
       "}\n",
       "matrix_property {\n",
       "  id: SIGMA_S\n",
       "  rows: 2\n",
       "  cols: 2\n",
       "  value: 1.0\n",
       "  value: 0.0\n",
       "  value: 0.0\n",
       "  value: 1.0\n",
       "}"
      ]
     },
     "execution_count": 34,
     "metadata": {},
     "output_type": "execute_result"
    }
   ],
   "source": [
    "u235"
   ]
  },
  {
   "cell_type": "code",
   "execution_count": 36,
   "metadata": {
    "collapsed": true
   },
   "outputs": [],
   "source": [
    "f = open('material_library', 'wb')\n",
    "f.write(library.SerializeToString())\n",
    "f.close()"
   ]
  },
  {
   "cell_type": "code",
   "execution_count": null,
   "metadata": {
    "collapsed": true
   },
   "outputs": [],
   "source": []
  }
 ],
 "metadata": {
  "kernelspec": {
   "display_name": "Python [conda env:py35]",
   "language": "python",
   "name": "conda-env-py35-py"
  },
  "language_info": {
   "codemirror_mode": {
    "name": "ipython",
    "version": 3
   },
   "file_extension": ".py",
   "mimetype": "text/x-python",
   "name": "python",
   "nbconvert_exporter": "python",
   "pygments_lexer": "ipython3",
   "version": "3.5.4"
  }
 },
 "nbformat": 4,
 "nbformat_minor": 2
}
